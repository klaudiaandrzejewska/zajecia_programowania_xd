{
 "cells": [
  {
   "cell_type": "markdown",
   "id": "a1dc6d9b",
   "metadata": {},
   "source": [
    "# #003 - Zmienna\n",
    "\n",
    "Niby zmienna, a do póki się nie zmieni - jest stała.\n",
    "\n",
    "### Spis treści:\n",
    "\n",
    "#### Level 1\n",
    "1. Deklaracja zmiennej \n",
    "2. Wywołanie zmiennej\n",
    "3. Wywołanie niezadeklarowanej zmiennej\n",
    "4. Nadpisanie zmiennej\n",
    "6. Jak nazwać zmienną?\n",
    "5. Definicja wielu zmiennych za 1 razem.\n",
    "7. Gdzie zmienna jest dostępna?\n",
    "\n",
    "#### Level 2\n",
    "1. Zmienne pomiędzy różnymi funkcjami\n",
    "2. Zmienne pomiędzy różnymi klasami\n",
    "3. Zmienna globalna i lokalna\n",
    "4. Zmienna środowiskowa\n",
    "5. Miejsca, pliki w których trzymamy często zmienne."
   ]
  },
  {
   "cell_type": "markdown",
   "id": "5e157b04",
   "metadata": {},
   "source": [
    "# Zmienna\n",
    "\n",
    "Czyli przypisanie wartości temu co jest po lewej stronie znaku równości a może nazywać się niemalże dowolnie jak chcemy."
   ]
  },
  {
   "cell_type": "markdown",
   "id": "aa854e5d",
   "metadata": {},
   "source": [
    "# 1. Deklaracja zmiennej.\n",
    "\n",
    "\n",
    "Czyli przypisanie wartości temu co jest poniże jest nazwane x i jest po lewej stronie znaku równości a może nazywać się niemalże dowolnie jak chcemy."
   ]
  },
  {
   "cell_type": "code",
   "execution_count": null,
   "id": "459693d5",
   "metadata": {},
   "outputs": [],
   "source": [
    "x = 1 # deklarujesz, że x to 1.\n",
    "y = 2 # przypisujesz y wartość 2.\n",
    "orangutan = 4 # od teraz orangutan jest cyfrą cztery.\n",
    "ale_to_ciekawe = 10 # zmienna ale_to_ciekawe to 10."
   ]
  },
  {
   "cell_type": "markdown",
   "id": "c2863e7a",
   "metadata": {},
   "source": [
    "# 2. Wywołanie zmiennej.\n",
    "\n",
    "Czyli jej użycie w kodzie dalej, po już zdefiniowaniu."
   ]
  },
  {
   "cell_type": "code",
   "execution_count": null,
   "id": "60112b96",
   "metadata": {},
   "outputs": [
    {
     "name": "stdout",
     "output_type": "stream",
     "text": [
      "1\n"
     ]
    }
   ],
   "source": [
    "# Wywołanie zmiennej.\n",
    "print(x) # używasz zadeklarowanej zmiennej x w funkcji print().\n",
    "# print(x) drukuje (wyświetla w terminalu) zmienną 'x'"
   ]
  },
  {
   "cell_type": "markdown",
   "id": "61f41538",
   "metadata": {},
   "source": [
    "# 3. Wywołanie niezadeklarowanej zmiennej.\n",
    "\n",
    "Zawsze skończy się błędem."
   ]
  },
  {
   "cell_type": "code",
   "execution_count": null,
   "id": "d6f3f0a6",
   "metadata": {},
   "outputs": [
    {
     "ename": "NameError",
     "evalue": "name 'f' is not defined",
     "output_type": "error",
     "traceback": [
      "\u001b[0;31m---------------------------------------------------------------------------\u001b[0m",
      "\u001b[0;31mNameError\u001b[0m                                 Traceback (most recent call last)",
      "\u001b[0;32m/tmp/ipykernel_786048/693204960.py\u001b[0m in \u001b[0;36m<module>\u001b[0;34m\u001b[0m\n\u001b[1;32m      5\u001b[0m \u001b[0;31m# o to nasz niemy bohater 'f'. wywołajmy go a otrzymamy\u001b[0m\u001b[0;34m\u001b[0m\u001b[0;34m\u001b[0m\u001b[0;34m\u001b[0m\u001b[0m\n\u001b[1;32m      6\u001b[0m \u001b[0;31m# poniższy bład.\u001b[0m\u001b[0;34m\u001b[0m\u001b[0;34m\u001b[0m\u001b[0;34m\u001b[0m\u001b[0m\n\u001b[0;32m----> 7\u001b[0;31m \u001b[0mprint\u001b[0m\u001b[0;34m(\u001b[0m\u001b[0mf\u001b[0m\u001b[0;34m)\u001b[0m \u001b[0;31m# teraz wyhaszuj tę linię. (ustaw \"#\" na początku linii).\u001b[0m\u001b[0;34m\u001b[0m\u001b[0;34m\u001b[0m\u001b[0m\n\u001b[0m\u001b[1;32m      8\u001b[0m \u001b[0mf\u001b[0m \u001b[0;34m=\u001b[0m \u001b[0;36m1\u001b[0m \u001b[0;31m# deklaracja\u001b[0m\u001b[0;34m\u001b[0m\u001b[0;34m\u001b[0m\u001b[0m\n",
      "\u001b[0;31mNameError\u001b[0m: name 'f' is not defined"
     ]
    }
   ],
   "source": [
    "# Nie można wywołać niezadeklarowanej zmiennej.\n",
    "# Zmienna f jest niezadeklarowana, czyli \n",
    "# nigdy nic nie było jej do tej pory przypisane.\n",
    "# wręcz więcej, nie była nawet użyta. \n",
    "# o to nasz niemy bohater 'f'. wywołajmy go a otrzymamy \n",
    "# poniższy bład. \n",
    "print(f) # teraz wyhaszuj tę linię. (ustaw \"#\" na początku linii).\n",
    "# i kliknij znów shift+enter.\n",
    "f = 1 # pierwsze użycie i nadanie wartości f\n",
    "print(f) # poprawne użycie f -  po nadaniu mu wartości."
   ]
  },
  {
   "cell_type": "markdown",
   "id": "e7426a04",
   "metadata": {},
   "source": [
    "# 4. Nadpisanie zmiennej."
   ]
  },
  {
   "cell_type": "code",
   "execution_count": 1,
   "id": "1ffa4ced",
   "metadata": {},
   "outputs": [
    {
     "name": "stdout",
     "output_type": "stream",
     "text": [
      "2\n",
      "3\n",
      "jupyter działa\n"
     ]
    }
   ],
   "source": [
    "# Zmiana zmiennej w programie.\n",
    "x = 1 # x to 1\n",
    "x = 2 # x to 2\n",
    "print(x) # drukuje \"2\"\n",
    "x = 3 # x to 3\n",
    "print(x) # drukuje \"3\"\n",
    "print('jupyter działa')"
   ]
  },
  {
   "cell_type": "markdown",
   "id": "91038dbe",
   "metadata": {},
   "source": [
    "# 5. Definicja wielu zmiennych za 1 razem.\n",
    "\n",
    "Można deklarować po 2, 3 i więcej zmiennych w jednej linii."
   ]
  },
  {
   "cell_type": "code",
   "execution_count": 2,
   "id": "b43a6c5b",
   "metadata": {},
   "outputs": [
    {
     "name": "stdout",
     "output_type": "stream",
     "text": [
      "3 zdefiniowane zmienne a, b, c mają wartości: 1 2 3\n"
     ]
    }
   ],
   "source": [
    "a, b, c = 1, 2, 3\n",
    "\n",
    "print('3 zdefiniowane zmienne a, b, c mają wartości:', a, b, c)"
   ]
  },
  {
   "cell_type": "markdown",
   "id": "9e51b943",
   "metadata": {},
   "source": [
    "# 6. Jak nazwać zmienną?\n",
    "\n",
    "Zasady nazywania zmiennej (podobne do zasad nazywania plików, funkcji, klas): \n",
    "- bez spacji i znaków specjalnych\n",
    "- zamiast spacji używaj \"_\" np. nazwa_zmiennej.\n",
    "- zazwyczaj z małej litery (w przeciwieństwie do klas)\n",
    "- Jak piszesz oficjalny kod to raczej pisz po angielsku, jeżeli się uczysz, rób co chcesz.\n",
    "- nazwij tak, abyś Ty za 2 tygodnie i każdy inny kto pierwszy raz patrzy na kod, wiedział o co Ci chodzi. Nazywasz listę ryb? nazwij ją fish_list. nazywasz zmienną która coś zlicza? może \"counter\" to dobra nazwa.\n",
    "\n",
    "**Przykłady nazywania zmiennych: świetne, dobre i złe i najgorsze.**\n",
    "\n",
    "\n",
    "**Najlepsze**:"
   ]
  },
  {
   "cell_type": "code",
   "execution_count": 3,
   "id": "94763b1c",
   "metadata": {},
   "outputs": [],
   "source": [
    "licznik = 0 # Wiadomo odrazu co ta zmienna robi. Zlicza.\n",
    "counter = 0 # Counter to licznik po angielsku. To język w którym mówi najwęcej programistów więc w nim staramy się nazywać zmienne, chyba, że robimy to dla ćwiczeń, nauki, piszemy na brudno, na szybko, szkicujemy lub - robimy to świadomie.\n",
    "zdanie = \"Ala ma kota\" # Super, drazu wiadomo, ze to zdanie.\n",
    "n_osob = 2 # N_osob czyli liczba osob. Odrazu wiadomo co to jest.\n",
    "lista_liter = 3 # Odrazu wiadomo co to za typ (lista) i z czego się składa. Super!\n",
    "i, j, l, c = 0, 0, 0, 0 # i, c - bardzo częste nazwy zmiennych\n"
   ]
  },
  {
   "cell_type": "markdown",
   "id": "03c5b2c2",
   "metadata": {},
   "source": [
    "\n",
    "**Dobre**:"
   ]
  },
  {
   "cell_type": "code",
   "execution_count": 4,
   "id": "c2a343fc",
   "metadata": {},
   "outputs": [],
   "source": [
    "x = 1 # Dobrze, chociaż nie dobrze, bo nazwa nic nie mówi. Fajne jak się śpieszysz.\n",
    "abc = 1 # Jak wyżej.\n",
    "to_jest_zmienna = 1 # Lepiej\n",
    "tojestzmienna = 1 # Gorzej\n",
    "HERE = 'tutaj' # Duże litery. Czasem ok, ale tylko nienadużywane.\n",
    "to_zmienna_1 = 1 # Super.\n"
   ]
  },
  {
   "cell_type": "markdown",
   "id": "938dc4fb",
   "metadata": {},
   "source": [
    "\n",
    "**Złe**:"
   ]
  },
  {
   "cell_type": "code",
   "execution_count": 5,
   "id": "e42a8d91",
   "metadata": {},
   "outputs": [],
   "source": [
    "tojestbardzodluganazwazmiennejbochceopisacdobrzecotorobi = 1 # Za długie, nieczytelne. Lepiej podzielić słowa \"_\" i skrócić.\n",
    "ALAMAKOTA = 1 # Czasem ok, zwykle nie ma potrzeby użwać uppercase.\n",
    "alaMaKota = 1 # Styl\n",
    "AlaMaKota = 1 # Styl\n",
    "To_Jest_Zmienna = 1 # Styl\n",
    "tO_jesT_zmiennA = 1 # Styl\n",
    "to_Jest_Zmienna = 1 # Styl\n",
    "aBc = 1 # Styl\n",
    "abC = 1 # Styl"
   ]
  },
  {
   "cell_type": "markdown",
   "id": "3a63c16e",
   "metadata": {},
   "source": [
    "\n",
    "**Krytycznie źle (nie zadziała):**"
   ]
  },
  {
   "cell_type": "code",
   "execution_count": 6,
   "id": "f480d1cf",
   "metadata": {},
   "outputs": [
    {
     "ename": "SyntaxError",
     "evalue": "invalid syntax (3832921294.py, line 1)",
     "output_type": "error",
     "traceback": [
      "\u001b[0;36m  Input \u001b[0;32mIn [6]\u001b[0;36m\u001b[0m\n\u001b[0;31m    to zmienna = 1 # Spacja\u001b[0m\n\u001b[0m       ^\u001b[0m\n\u001b[0;31mSyntaxError\u001b[0m\u001b[0;31m:\u001b[0m invalid syntax\n"
     ]
    }
   ],
   "source": [
    "to zmienna = 1 # Spacja\n",
    "1_to_zmienna = 1 # Zaczyna się od cyfry\n",
    "zmienn@ = 2 # Zawiera znak specjalny inny niż \"_\"\n",
    "_zmienna = 1 # tak się oznacza specjalne zmienne. O tym później."
   ]
  },
  {
   "cell_type": "markdown",
   "id": "7fb81f61",
   "metadata": {},
   "source": [
    "**Konwencje**:\n",
    "\n",
    "O tym jeszcze powiem więcej. Zmienne to konwencje, czyli takie umowy między zespołem programistów na temat tego jak chcemy pisać kod, jakich zasad wspólnie przestrzegać. Przykłady ciekawych konwencji:\n",
    "\n",
    "1. Kiedy zmienna nie będzie używana poza szybką dekaracją wewnątrz pętli (omówimy pętle za ok. 10 klocków) nazywamy ją w określony sposób np. pojedyńczy podkreślnik _ co wyglądało by np. tak: (for _ in range(10)).\n",
    "2. Gdy używamy nazw po polsku, dopuszczamy polskie znaki (Python je dopuszcza)."
   ]
  },
  {
   "cell_type": "markdown",
   "id": "793ea48b",
   "metadata": {},
   "source": [
    "# 7. Gdzie zmienna jest dostępna?\n",
    "\n",
    "Jak byś otworzył drugi plik, to wewnątrz jego zmienna x (obecnie równa 3) jest niedostępna. Możesz sprawdzić, otwórz drugi plik np. zmienna.py i napisz w nim \"print(x)\". \n",
    "\n",
    "### Doczytałeś tutaj i jesteś początkujący? Rzuć okiem na zadanie i leć dalej.\n"
   ]
  },
  {
   "cell_type": "markdown",
   "id": "2cbafdeb",
   "metadata": {},
   "source": [
    "# Zadanie\n",
    "1. Zadeklaruj poniżej zmienną f i przypisz jej wartość 10.\n",
    "2. Wywołaj zadeklarowaną zmienną umieszczając ją jako argument w funkcji print()"
   ]
  },
  {
   "cell_type": "code",
   "execution_count": null,
   "id": "d8a54c0b",
   "metadata": {},
   "outputs": [
    {
     "name": "stdout",
     "output_type": "stream",
     "text": [
      "11\n"
     ]
    }
   ],
   "source": [
    "# Przykład:\n",
    "m = 11\n",
    "print(m)"
   ]
  },
  {
   "cell_type": "code",
   "execution_count": null,
   "id": "5a743a1a",
   "metadata": {},
   "outputs": [],
   "source": [
    "# Twoje rozwiązanie:\n",
    "\n"
   ]
  },
  {
   "cell_type": "markdown",
   "id": "d6ffb687",
   "metadata": {},
   "source": [
    "# Level 2\n",
    "\n",
    "Zmienna może być także niedostępna pomiedzy funkcjami i klasami. O tym będziemy mówić przy okazji funkcji i klas. \n",
    "\n",
    "Wtedy też namieszam Ci też też coś takiego jak zmienna lokalna i globalna, zmienne środowiskowe i wszelakie pliki oraz inne miejsca gdzie dodatkowo możemy przechowywać zmienną którą użyjemy w programie.\n",
    "\n",
    "1. Zmienne pomiędzy różnymi funkcjami\n",
    "2. Zmienne pomiędzy różnymi klasami\n",
    "3. Zmienna globalna i lokalna\n",
    "4. Zmienna środowiskowa\n",
    "5. Miejsca, pliki w których trzymamy często zmienne.\n",
    "\n",
    "Opiszę to potem."
   ]
  },
  {
   "cell_type": "markdown",
   "id": "b74acc00",
   "metadata": {},
   "source": [
    "## Inne / notatki / pomysły\n",
    "\n",
    "To chyba tyle. Jak coś jeszcze wynajdę to tutaj dodam."
   ]
  }
 ],
 "metadata": {
  "kernelspec": {
   "display_name": "Python 3 (ipykernel)",
   "language": "python",
   "name": "python3"
  },
  "language_info": {
   "codemirror_mode": {
    "name": "ipython",
    "version": 3
   },
   "file_extension": ".py",
   "mimetype": "text/x-python",
   "name": "python",
   "nbconvert_exporter": "python",
   "pygments_lexer": "ipython3",
   "version": "3.8.10"
  }
 },
 "nbformat": 4,
 "nbformat_minor": 5
}
